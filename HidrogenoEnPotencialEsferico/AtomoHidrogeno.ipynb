{
 "cells": [
  {
   "cell_type": "code",
   "execution_count": 1,
   "metadata": {},
   "outputs": [],
   "source": [
    "import numpy as np\n",
    "import matplotlib.pyplot as plt\n",
    "import matplotlib.gridspec as gridspec\n",
    "import scipy.special as sp\n",
    "from matplotlib import cm, colors\n",
    "from mpl_toolkits.mplot3d import Axes3D\n",
    "import scipy.constants as cte"
   ]
  },
  {
   "cell_type": "markdown",
   "metadata": {},
   "source": [
    "### Armonicos esfericos\n",
    "$$ Y(\\theta,\\phi) =\\sqrt{\\frac{(2l + 1)(l-m)!}{4 \\pi (l + m)!}} e^{i m \\phi} P_{l}^{m} \\cos(\\theta) $$"
   ]
  },
  {
   "cell_type": "code",
   "execution_count": 2,
   "metadata": {},
   "outputs": [],
   "source": [
    "def SphericalHarmonics (l:int,m:int):\n",
    "\n",
    "    \"\"\"\n",
    "    Parameters:\n",
    "    - l:int -> quantum azimuthal number\n",
    "    - m:int -> quantum magnetic number\n",
    "    \"\"\"\n",
    "\n",
    "    # Grids of angles     \n",
    "    theta = np.linspace(0,np.pi,100)\n",
    "    phi = np.linspace(0,2*np.pi, 100)\n",
    "\n",
    "    #Create meshgrid (theta-phi)\n",
    "    theta, phi = np.meshgrid(theta, phi)\n",
    "\n",
    "    # Calculate the Cartesian coordinates of each point in the mesh.\n",
    "    xyz = np.array([np.sin(theta) * np.sin(phi), np.sin(theta) * np.cos(phi),    np.cos(theta)])\n",
    "\n",
    "    #Harmonic calculation \n",
    "    Y = sp.sph_harm(m,l,phi,theta)\n",
    "    \n",
    "    # Linear combination of Y_l,m and Y_l,-m to create the real form.\n",
    "    if m < 0:\n",
    "        Y = np.sqrt(2) * (-1) ** m * Y.imag\n",
    "    elif m > 0:\n",
    "        Y = np.sqrt(2) * (-1) ** m * Y.real\n",
    "    \n",
    "    # Y in in cartesian coordinates \n",
    "    Yx, Yy, Yz = np.abs(Y) * xyz\n",
    "\n",
    "    # Colur the plotted surface \n",
    "    cmap = plt.cm.ScalarMappable(cmap=cm.jet)\n",
    "    cmap.set_clim(-0.5, 0.5)\n",
    "\n",
    "    fig = plt.figure(figsize=(8,6))\n",
    "    ax = fig.add_subplot(projection='3d')\n",
    "\n",
    "    ax.plot_surface(Yx,Yy,Yz, facecolors = cmap.to_rgba(Y.real),rstride = 1, cstride = 1)\n",
    "    m = cm.ScalarMappable(cmap=cm.jet)\n",
    "    m.set_array(Y)\n",
    "    fig.colorbar(m, shrink=0.9)\n",
    "    \n",
    "    ax.set_xlabel('X', fontsize = 16)\n",
    "    ax.set_ylabel('Y', fontsize = 16)\n",
    "    ax.set_zlabel('Z', fontsize = 16)\n",
    "    \n",
    "    plt.show()"
   ]
  },
  {
   "cell_type": "markdown",
   "metadata": {},
   "source": [
    "### Parte radial\n",
    "$$ R(r) = N \\rho^{l} L_{n+1}^{2l + 1}(\\rho) e^{-\\rho/2}  $$\n",
    "\n",
    "Donde $N$ es\n",
    "    $$ N = \\sqrt{\\frac{(n-l-1)!}{2n(n+1)!}\\left(\\frac{2}{na_0}\\right)^3}$$\n",
    "    \n",
    "con:\n",
    "\n",
    "$$a_0 = \\frac{\\hbar^2}{\\mu e^2}$$ y $$\\rho = \\frac{2r}{na_0}$$"
   ]
  },
  {
   "cell_type": "code",
   "execution_count": 3,
   "metadata": {},
   "outputs": [],
   "source": [
    "def statesRadialFuntion (n:int,l:int,state:str):\n",
    "    \"\"\"\n",
    "    Parameters:\n",
    "    - n:int -> principal quantum number\n",
    "    - l:int -> azimuthal quantum number\n",
    "    - state:str -> atomic state of hydrogen\n",
    "    \n",
    "    Retunr: \n",
    "    Radial function for the first sates of Hydrogen atom\n",
    "    \"\"\"\n",
    "    a0 = 1\n",
    "    r = np.linspace(0,20,100)\n",
    "    rho = (2 * r) / (n * a0)\n",
    "    #--------------------------------------------------------------------------------------------------------\n",
    "    \n",
    "    N = np.sqrt((np.math.factorial(n-l-1)/(2* n* np.math.factorial(n+l))) * (2/(n *a0)) ** 3)\n",
    "    R = N  * sp.assoc_laguerre(rho,n-l-1,2*l+1) * (rho ** l) * np.exp(- (rho / 2))\n",
    "    \n",
    "    plt.figure(figsize=(6,6))\n",
    "    plt.plot(r,R,label = state, color = 'k')\n",
    "    plt.grid()\n",
    "    plt.legend()\n",
    "    plt.show()"
   ]
  },
  {
   "cell_type": "markdown",
   "metadata": {},
   "source": [
    "### Niveles de energía\n",
    "$$ E_n = - \\frac{\\mu}{2 \\hbar^2 n^2}\\left(\\frac{e^2}{4 \\pi \\epsilon_0}\\right)^2 $$"
   ]
  },
  {
   "cell_type": "code",
   "execution_count": 4,
   "metadata": {},
   "outputs": [],
   "source": [
    "E = -13.598396 #eV\n",
    "n = [1,2,3,4,5]\n",
    "En = [E/(n[i]**2) for i in range(0,len(n))]\n",
    "x = np.linspace(-5,5,100)"
   ]
  },
  {
   "cell_type": "code",
   "execution_count": 5,
   "metadata": {},
   "outputs": [
    {
     "data": {
      "image/png": "[encoded data removed]",
      "text/plain": [
       "<Figure size 432x432 with 1 Axes>"
      ]
     },
     "metadata": {
      "needs_background": "light"
     },
     "output_type": "display_data"
    }
   ],
   "source": [
    "plt.figure(figsize = (6,6))\n",
    "for i in range(0, len(En)):\n",
    "    plt.plot(x, [En[i] for j in x], label = 'E'+str(n[i]))\n",
    "\n",
    "plt.ylabel('Energía [eV]', fontsize = 16)\n",
    "plt.legend()\n",
    "plt.show()"
   ]
  },
  {
   "cell_type": "code",
   "execution_count": null,
   "metadata": {},
   "outputs": [],
   "source": []
  }
 ],
 "metadata": {
  "kernelspec": {
   "display_name": "Python 3",
   "language": "python",
   "name": "python3"
  },
  "language_info": {
   "codemirror_mode": {
    "name": "ipython",
    "version": 3
   },
   "file_extension": ".py",
   "mimetype": "text/x-python",
   "name": "python",
   "nbconvert_exporter": "python",
   "pygments_lexer": "ipython3",
   "version": "3.8.3"
  }
 },
 "nbformat": 4,
 "nbformat_minor": 4
}
