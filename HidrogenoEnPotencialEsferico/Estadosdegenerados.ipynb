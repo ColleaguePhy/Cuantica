{
 "cells": [
  {
   "cell_type": "code",
   "execution_count": 1,
   "metadata": {},
   "outputs": [],
   "source": [
    "import numpy as np\n",
    "import matplotlib.pyplot as plt\n",
    "import matplotlib.gridspec as gridspec\n",
    "import scipy.special as sp\n",
    "from matplotlib import cm, colors\n",
    "from mpl_toolkits.mplot3d import Axes3D\n",
    "import scipy.constants as cte"
   ]
  },
  {
   "cell_type": "code",
   "execution_count": 2,
   "metadata": {},
   "outputs": [],
   "source": [
    "def statesRadialFuntion (n:int,l:int):\n",
    "    \"\"\"\n",
    "    Parameters:\n",
    "    - n:int -> principal quantum number\n",
    "    - l:int -> azimuthal quantum number\n",
    "    - state:str -> atomic state of hydrogen\n",
    "    \n",
    "    Retunr: \n",
    "    Radial function for the first sates of Hydrogen atom\n",
    "    \"\"\"\n",
    "    a0 = 1\n",
    "    r = np.linspace(0,20,100)\n",
    "    rho = (2 * r) / (n * a0)\n",
    "    #--------------------------------------------------------------------------------------------------------\n",
    "    \n",
    "    N = np.sqrt((np.math.factorial(n-l-1)/(2* n* np.math.factorial(n+l))) * (2/(n *a0)) ** 3)\n",
    "    R = N  * sp.assoc_laguerre(rho,n-l-1,2*l+1) * (rho ** l) * np.exp(- (rho / 2))\n",
    "    \n",
    "    return r,R\n",
    "\n",
    "E = -13.598396 #eV\n",
    "n = [1,2,3,4,5]\n",
    "En = [E/(n[i]**2) for i in range(0,len(n))]\n",
    "x = np.linspace(0,20,100)"
   ]
  },
  {
   "cell_type": "code",
   "execution_count": 3,
   "metadata": {},
   "outputs": [],
   "source": [
    "r1,R1 = statesRadialFuntion(2,0)\n",
    "r2,R2 = statesRadialFuntion(2,1)"
   ]
  },
  {
   "cell_type": "code",
   "execution_count": 4,
   "metadata": {},
   "outputs": [
    {
     "data": {
      "image/png": "[encoded data removed]",
      "text/plain": [
       "<Figure size 432x432 with 1 Axes>"
      ]
     },
     "metadata": {
      "needs_background": "light"
     },
     "output_type": "display_data"
    }
   ],
   "source": [
    "plt.figure(figsize = (6,6))\n",
    "plt.plot(x, [En[1] for j in x], label = 'E'+str(n[1]), color = 'k')\n",
    "plt.plot(r1,R1 + En[1], color = 'Coral', label = '2s')\n",
    "plt.plot(r2,R2 + En[1], label = '2p')\n",
    "plt.legend(fontsize = 14)\n",
    "plt.show()"
   ]
  },
  {
   "cell_type": "code",
   "execution_count": null,
   "metadata": {},
   "outputs": [],
   "source": []
  },
  {
   "cell_type": "code",
   "execution_count": null,
   "metadata": {},
   "outputs": [],
   "source": []
  },
  {
   "cell_type": "code",
   "execution_count": null,
   "metadata": {},
   "outputs": [],
   "source": []
  }
 ],
 "metadata": {
  "kernelspec": {
   "display_name": "Python 3",
   "language": "python",
   "name": "python3"
  },
  "language_info": {
   "codemirror_mode": {
    "name": "ipython",
    "version": 3
   },
   "file_extension": ".py",
   "mimetype": "text/x-python",
   "name": "python",
   "nbconvert_exporter": "python",
   "pygments_lexer": "ipython3",
   "version": "3.8.3"
  }
 },
 "nbformat": 4,
 "nbformat_minor": 4
}
