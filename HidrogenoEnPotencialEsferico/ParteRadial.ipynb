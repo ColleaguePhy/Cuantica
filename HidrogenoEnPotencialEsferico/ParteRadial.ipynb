{
 "cells": [
  {
   "cell_type": "code",
   "execution_count": 1,
   "metadata": {},
   "outputs": [],
   "source": [
    "import scipy.special as sp\n",
    "import numpy as np\n",
    "import matplotlib.pyplot as plt\n",
    "import scipy.constants as  cte"
   ]
  },
  {
   "cell_type": "markdown",
   "metadata": {},
   "source": [
    "$$ R(r) = N \\rho^{l} L_{n+1}^{2l + 1}(\\rho) e^{-\\rho/2}  $$\n",
    "\n",
    "Donde $N$ es\n",
    "    $$ N = \\sqrt{\\frac{(n-l-1)!}{2n(n+1)!}\\left(\\frac{2}{na_0}\\right)^3}$$\n",
    "    \n",
    "con:\n",
    "\n",
    "$$a_0 = \\frac{\\hbar^2}{\\mu e^2}$$ y $$\\rho = \\frac{2r}{na_0}$$"
   ]
  },
  {
   "cell_type": "code",
   "execution_count": 2,
   "metadata": {},
   "outputs": [],
   "source": [
    "def statesRadialFuntion (n:int,l:int,state:str):\n",
    "    \"\"\"\n",
    "    Parameters:\n",
    "    - n:int -> principal quantum number\n",
    "    - l:int -> azimuthal quantum number\n",
    "    - state:str -> atomic state of hydrogen\n",
    "    \n",
    "    Retunr: \n",
    "    Radial function for the first sates of Hydrogen atom\n",
    "    \"\"\"\n",
    "    a0 = 1\n",
    "    r = np.linspace(0,20,100)\n",
    "    rho = (2 * r) / (n * a0)\n",
    "    #--------------------------------------------------------------------------------------------------------\n",
    "    \n",
    "    N = np.sqrt((np.math.factorial(n-l-1)/(2* n* np.math.factorial(n+l))) * (2/(n *a0)) ** 3)\n",
    "    R = N  * sp.assoc_laguerre(rho,n-l-1,2*l+1) * (rho ** l) * np.exp(- (rho / 2))\n",
    "    \n",
    "    plt.figure(figsize=(6,6))\n",
    "    plt.plot(r,R,label = state, color = 'k')\n",
    "    plt.grid()\n",
    "    plt.legend()\n",
    "    plt.show()"
   ]
  },
  {
   "cell_type": "code",
   "execution_count": 3,
   "metadata": {},
   "outputs": [
    {
     "data": {
      "image/png": "[encoded data removed]",
      "text/plain": [
       "<Figure size 432x432 with 1 Axes>"
      ]
     },
     "metadata": {
      "needs_background": "light"
     },
     "output_type": "display_data"
    }
   ],
   "source": [
    "statesRadialFuntion(2,0,'2s')"
   ]
  },
  {
   "cell_type": "code",
   "execution_count": null,
   "metadata": {},
   "outputs": [],
   "source": [
    "\n"
   ]
  },
  {
   "cell_type": "code",
   "execution_count": null,
   "metadata": {},
   "outputs": [],
   "source": []
  }
 ],
 "metadata": {
  "kernelspec": {
   "display_name": "Python 3",
   "language": "python",
   "name": "python3"
  },
  "language_info": {
   "codemirror_mode": {
    "name": "ipython",
    "version": 3
   },
   "file_extension": ".py",
   "mimetype": "text/x-python",
   "name": "python",
   "nbconvert_exporter": "python",
   "pygments_lexer": "ipython3",
   "version": "3.8.3"
  }
 },
 "nbformat": 4,
 "nbformat_minor": 4
}
